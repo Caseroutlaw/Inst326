{
 "cells": [
  {
   "cell_type": "markdown",
   "id": "b5acb3da-3140-4353-b6c8-25ec10b02cdd",
   "metadata": {},
   "source": [
    "*Conditional expressions allow us to quickly select values within a line based on conditions, and are often used in assignment operations or function arguments. In python, the expression for a condition is usually \"x if y else z\", which means that if the condition y is true, then the result is x, and if y is false, then the result is z.*"
   ]
  },
  {
   "cell_type": "code",
   "execution_count": 2,
   "id": "a8721bbf-7a4a-4d80-9605-d359f42c88f4",
   "metadata": {},
   "outputs": [
    {
     "data": {
      "text/plain": [
       "'positive'"
      ]
     },
     "execution_count": 2,
     "metadata": {},
     "output_type": "execute_result"
    }
   ],
   "source": [
    "number = 1\n",
    "result = \"positive\" if number > 0 else \"negative\"\n",
    "result\n"
   ]
  },
  {
   "cell_type": "markdown",
   "id": "4707de92-f49b-4847-8208-d6092f23a191",
   "metadata": {},
   "source": [
    "*Passing keyword arguments to functions means that when we call a function we can explicitly specify which argument receives which value. This makes function calls much cleaner, and we don't need to care about the order of arguments.*"
   ]
  },
  {
   "cell_type": "code",
   "execution_count": 3,
   "id": "afcb4d99-8d70-4165-a08a-25975c58eb33",
   "metadata": {},
   "outputs": [
    {
     "data": {
      "text/plain": [
       "'Hello, Shenghao Gu'"
      ]
     },
     "execution_count": 3,
     "metadata": {},
     "output_type": "execute_result"
    }
   ],
   "source": [
    "def greet(name, greeting=\"Hello\"):\n",
    "    return f\"{greeting}, {name}\"\n",
    "greet(name=\"Shenghao Gu\", greeting=\"Hello\")"
   ]
  },
  {
   "cell_type": "markdown",
   "id": "76b2962c-092c-4501-9cb4-41ceeb73e410",
   "metadata": {},
   "source": [
    "*Defining a function with optional arguments means that when we define a function, we can set default values for certain arguments.*\n",
    "                                                                                                        "
   ]
  },
  {
   "cell_type": "code",
   "execution_count": 4,
   "id": "cc308eef-43de-40a7-b0f7-b380b896400f",
   "metadata": {},
   "outputs": [
    {
     "name": "stdout",
     "output_type": "stream",
     "text": [
      "Hi, Shenghao!\n",
      "Hello, Shen!\n"
     ]
    }
   ],
   "source": [
    "def say_hi(name, greeting=\"Hi\"):\n",
    "    return f\"{greeting}, {name}!\"\n",
    "\n",
    "print(say_hi(\"Shenghao\"))\n",
    "\n",
    "print(say_hi(\"Shen\", greeting=\"Hello\"))"
   ]
  },
  {
   "cell_type": "code",
   "execution_count": null,
   "id": "ee78c9da-f11c-4a41-94a8-76e05e1ed36f",
   "metadata": {},
   "outputs": [],
   "source": []
  }
 ],
 "metadata": {
  "kernelspec": {
   "display_name": "Python 3 (ipykernel)",
   "language": "python",
   "name": "python3"
  },
  "language_info": {
   "codemirror_mode": {
    "name": "ipython",
    "version": 3
   },
   "file_extension": ".py",
   "mimetype": "text/x-python",
   "name": "python",
   "nbconvert_exporter": "python",
   "pygments_lexer": "ipython3",
   "version": "3.11.4"
  }
 },
 "nbformat": 4,
 "nbformat_minor": 5
}
